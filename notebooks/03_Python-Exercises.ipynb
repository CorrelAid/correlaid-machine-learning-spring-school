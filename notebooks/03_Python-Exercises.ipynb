{
 "cells": [
  {
   "cell_type": "markdown",
   "id": "3c8cc3c1",
   "metadata": {},
   "source": [
    "<h1 style=\"color: #0f49c4 ;\"><center>Correlaid - Machine Learning Spring School</center></h1>\n",
    "<h1  style=\"color: #0f49c4 ;\"><center>Introduction to Python - Exercises</center></h1>"
   ]
  },
  {
   "cell_type": "markdown",
   "id": "0a6b65c0",
   "metadata": {},
   "source": [
    "## Task 1\n",
    "For learning loops, if-statements and functions, the Sieve of Eratosthenes and the bubble sort are classic tasks. Look at the explanations and the pseudo code on https://en.wikipedia.org/wiki/Sieve_of_Eratosthenes and https://en.wikipedia.org/wiki/Bubble_sort and try an implementation in Python for both. For this, write the two functions `bubblesort` and `sieve`. Test the sieve of Eratosthenes on the numbers 1 to 100 and the bubble sort on the vector (17, 42, 4, 99, 8, 16).\n",
    "**Note**: You do not have to follow the pseudo code as long as the desired result is achieved."
   ]
  },
  {
   "cell_type": "markdown",
   "id": "c4107f03",
   "metadata": {},
   "source": [
    "## Task 2\n",
    "Import the function `randint()` from the built-in module `random`. Write the function `throw()` using the function `randint()`. The function `throw()` should return the numbers 1 to 6 equally distributed. Afterwards, execute the function 1000x and calculate the arithmetic mean using `from statistics import mean`."
   ]
  },
  {
   "cell_type": "markdown",
   "id": "0a4c2f21",
   "metadata": {},
   "source": [
    "## Task 3\n",
    "Loops can be terminated with the keyword `break` as soon as a certain condition is met. Using `continue`, a part of the loop can be skipped for the iteration in which the condition is met. First, look at the given example and familiarize yourself with `break` and `continue`.\n",
    "\n",
    "Afterwards, find all numbers in the interval [100, 147] that are divisible by 7 but are not multiples of 5. Output the corresponding numbers with `print`. The numbers 112, 119, 126, 133 and 147 should be printed. "
   ]
  },
  {
   "cell_type": "code",
   "execution_count": null,
   "id": "f893ea0e",
   "metadata": {},
   "outputs": [],
   "source": [
    "for x in range(10):\n",
    "    if x == 4:\n",
    "        continue # Number 3 is skipped and the next iteration starts\n",
    "    elif x == 5:\n",
    "        break # terminates the loop\n",
    "    else:\n",
    "        print(x) # Output: 0, 1, 2 and 4"
   ]
  },
  {
   "cell_type": "markdown",
   "id": "b7d7e73f",
   "metadata": {},
   "source": [
    "## Task 4\n",
    "Import the dataset `titanic` as `df`from the `seaborn` library. Afterwards, save the dataset locally as .xlsx."
   ]
  },
  {
   "cell_type": "markdown",
   "id": "c8baba9a",
   "metadata": {},
   "source": [
    "## Task 5\n",
    "Get an overview of the titanic dataset by\n",
    "* i) printing the first 4 lines. \n",
    "* ii) printing the last 4 lines.\n",
    "* iii) displaying the indices.\n",
    "* iv) displaying the column names.\n",
    "* v) printing a table with important position and dispersion measures of the metric variables.\n",
    "* vi) becoming familiar with the data types.\n",
    "* vii) sorting the dataset descending by age.\n",
    "* viii) displaying a partial dataset which only contains passengers that survived.\n",
    "* ix) displaying all first-class passengers that survived. How many person are there? **Hint**: Use the method `groupby`."
   ]
  },
  {
   "cell_type": "markdown",
   "id": "e4890ba8",
   "metadata": {},
   "source": [
    "## Task 6\n",
    "Import the **HappinessReport2019** dataset. Divide the dataset into six groups. In group 1 are all countries with a score of 2-3, in group 2 of 3-4, in group 3 of 4-5,... and in group 6 of 7-8. Create boxplots for GDP per capita for each group. \\\n",
    "**Note**: You can use the function `pd.cut()` to divide the data into groups. "
   ]
  }
 ],
 "metadata": {
  "kernelspec": {
   "display_name": "Python 3 (ipykernel)",
   "language": "python",
   "name": "python3"
  },
  "language_info": {
   "codemirror_mode": {
    "name": "ipython",
    "version": 3
   },
   "file_extension": ".py",
   "mimetype": "text/x-python",
   "name": "python",
   "nbconvert_exporter": "python",
   "pygments_lexer": "ipython3",
   "version": "3.8.12"
  }
 },
 "nbformat": 4,
 "nbformat_minor": 5
}
