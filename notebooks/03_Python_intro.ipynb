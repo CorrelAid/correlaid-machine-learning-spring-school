{
 "cells": [
  {
   "cell_type": "markdown",
   "id": "dc693dcc",
   "metadata": {},
   "source": [
    "<h1 style=\"color: #0f49c4 ;\"><center>Correlaid - Machine Learning Spring School</center></h1>\n",
    "<h1  style=\"color: #0f49c4 ;\"><center>Introduction to Python</center></h1>"
   ]
  },
  {
   "cell_type": "markdown",
   "id": "05cde187",
   "metadata": {},
   "source": [
    "<h2>Content</h2>\n",
    "<ol>\n",
    "    <li> Python and Jupyter </li>\n",
    "    <li> Basics </li>\n",
    "    <li> Control Flow and Functions </li>\n",
    "    <li> Import and Export </li>\n",
    "    <li> NumPy and Pandas </li>\n",
    "    <li> Visualization </li>\n",
    "</ol>"
   ]
  },
  {
   "cell_type": "markdown",
   "id": "00c5e984",
   "metadata": {},
   "source": [
    "### Literature and further sources\n",
    "Joel Grus: *Data Science from Scratch*, O'Reilly, 2015  \n",
    "Of particular interest is Chapter 2 *A Crash Course in Python*, which forms the basis for this notebook:  \n",
    "http://proquest.tech.safaribooksonline.de/book/databases/9781491901410/2dot-a-crash-course-in-python/python_html\n",
    "\n",
    "J.R. Johansson: *Scientific Python Lectures*  \n",
    "https://github.com/jrjohansson/scientific-python-lectures/blob/master/Lecture-1-Introduction-to-Python-Programming.ipynb\n",
    "\n",
    "Python Tutorials  \n",
    "http://www.tutorialspoint.com/python/  \n",
    "https://www.python-kurs.eu  "
   ]
  },
  {
   "cell_type": "markdown",
   "id": "09756b08",
   "metadata": {},
   "source": [
    "<h1><center> 1 Python and Jupyter"
   ]
  },
  {
   "cell_type": "markdown",
   "id": "a7d5028b",
   "metadata": {},
   "source": [
    "### 1.1 Getting started with Jupyter\n",
    "\n",
    "Jupyter is based on [iPython](https://ipython.org), an interactive Python shell. Jupyter itself is a notebook application in which executable Python code and explanations (like this one) can be mixed into documents called notebooks. The individual blocks in the notebook are called Notes or Cells. Blocks containing explanations are written in [Markdown Language](https://de.wikipedia.org/wiki/Markdown).\n",
    "Code blocks contain executable Python code. The type of a block can be changed using the menu bar and `Esc-M` (Markdown) or `Esc-Y` (Code).\n",
    "\n",
    "Each block is executable. To execute a block, the following options are available:\n",
    "\n",
    "- `Ctrl-Enter`: Execute\n",
    "- `Shift-Enter`: Execute and jump to the next block\n",
    "- Run-Cell command in the menu bar: like `Shift-Enter`.\n",
    "\n",
    "<div class=\"alert alert-info\"><b>Try it!</b> Double-click once in this text and then press Shift-Enter.</div>\n",
    "\n",
    "Other shortcuts: by clicking over the keyboard icon in the menu bar or by [cheat-sheet](https://www.google.de/search?q=jupyter+cheat+sheet).\n",
    "\n",
    "\n",
    "### 1.2 The first Python program\n",
    "\n",
    "Python is an interpreter language. That is, every command is given to the interpreter (running in the background) and executed. \n",
    "\n",
    "<div class=\"alert alert-info\"><b>Try it!</b> Press Shift-Enter in the next code cell.</div>"
   ]
  },
  {
   "cell_type": "code",
   "execution_count": null,
   "id": "1260dd28",
   "metadata": {},
   "outputs": [],
   "source": [
    "print(\"Hello World!\")"
   ]
  },
  {
   "cell_type": "code",
   "execution_count": null,
   "id": "10cced73",
   "metadata": {},
   "outputs": [],
   "source": [
    "print(3+2)"
   ]
  },
  {
   "cell_type": "code",
   "execution_count": null,
   "id": "8bd956fc",
   "metadata": {},
   "outputs": [],
   "source": [
    "# Variable assignment\n",
    "x = 3+5"
   ]
  },
  {
   "cell_type": "code",
   "execution_count": null,
   "id": "d308637d",
   "metadata": {},
   "outputs": [],
   "source": [
    "# Displaying a value within a Python session even without print\n",
    "x"
   ]
  },
  {
   "cell_type": "code",
   "execution_count": null,
   "id": "84655848",
   "metadata": {},
   "outputs": [],
   "source": [
    "# Calculator 2^8\n",
    "2**8"
   ]
  },
  {
   "cell_type": "markdown",
   "id": "ac8f7107",
   "metadata": {},
   "source": [
    "### 1.3 The Zen of Python\n",
    "\n",
    "As you will soon realize, Python has its own peculiarities and it seems a bit unusual at first glance. At second glance, you'll notice that many things in Java or C# are very awkward to formulate compared to Python. Good Python code is described as \"Pythonic\". Some basic principles of Python programming are these:\n",
    "\n",
    "*Beautiful is better than ugly.  \n",
    "Explicit is better than implicit.  \n",
    "Simple is better than complex.  \n",
    "Complex is better than complicated.  \n",
    "Readability counts.  \n",
    "There should be one-- and preferably only one--obvious way to do it.*\n",
    "\n",
    "All 19 aphorisms can be found at [python.org](http://legacy.python.org/dev/peps/pep-0020/). You can also display them via `import this` in the Python interpreter.\n",
    "\n",
    "<div class=\"alert alert-info\"><b>Try it!</b> Create a new code cell and execute the above mentioned command.</div>"
   ]
  },
  {
   "cell_type": "markdown",
   "id": "71aa51a2",
   "metadata": {},
   "source": [
    "### 1.4 Python 2.7 vs. Python 3.x\n",
    "\n",
    "The [history of Python](https://en.wikipedia.org/wiki/History_of_Python) dates back to the early 90s. Over the years, a lot of messiness has accumulated, which was cleaned up in 2009 with Python 3.0. It was consciously accepted that Python 3 programs are incompatible with Python 2.7, the last two-version. Since many libraries are based on Python 2.7, this version is still used today. \n",
    "\n",
    "We work with Python 3, so when copying 2.7 code examples from the Internet, adjustments may be necessary. The most important differences are briefly presented below. More information can be found [here](https://docs.python.org/3.0/whatsnew/3.0.html). \n",
    "\n",
    "#### Print Function \n",
    "\n",
    "An important difference from Python 3.x to Python 2.7: `print` is a function and must be written with parentheses:\n",
    "\n",
    "    print \"Hello\" # allowed in Python 2.7\n",
    "    print (\"Hello\") # Python 3.x\n",
    "       \n",
    "#### Type conversions\n",
    "\n",
    "In Python 3, type checking has been tightened so that number types in particular must be explicitly cast for combination with strings.\n",
    "\n",
    "    sum = 3+5\n",
    "    print \"Sum: \"+sum # Python 2.7\n",
    "    print(\"Summe: \"+str(summe)) # Python 3.x\n",
    "\n",
    "#### Generator objects instead of list, dictionaries etc.\n",
    "\n",
    "In Python 3, many functions like `range` (creates list with numbers) were changed, so that only generator-objects instead of lists were generated. Generatores are more efficient, because they generate the values only when they are needed."
   ]
  },
  {
   "cell_type": "markdown",
   "id": "e44beeae",
   "metadata": {},
   "source": [
    "### 1.5 Indentation and line breaks\n",
    "\n",
    "Code blocks in Python are not defined by curly braces, but by indentation alone. The head of a code block (branch, loop, function, etc.) is always terminated with a colon `:`, after which it must be indented.\n",
    "\n",
    "An `if` statement, which in C-based languages looks like this:\n",
    "\n",
    "      if (a < b)\n",
    "      {\n",
    "          statement;\n",
    "          statement;\n",
    "      }\n",
    "\n",
    "is thus formulated in Python like this:\n",
    "\n",
    "      { if a < b:\n",
    "          statement\n",
    "          statement\n",
    "\n",
    "Be careful: The number of spaces must be correct and tabs should be avoided. Jupyter does the latter automatically."
   ]
  },
  {
   "cell_type": "markdown",
   "id": "af11155f",
   "metadata": {},
   "source": [
    "A line break always introduces a new command. However, inside parentheses, spaces and line breaks are ignored.\n",
    "\n",
    "    list_of_lists = [[1, 2, 3], [4, 5, 6], [7, 8, 9]]\n",
    "\n",
    "    easier_to_read_list_of_lists = [ [1, 2, 3],\n",
    "                                     [4, 5, 6],\n",
    "                                     [7, 8, 9] ]\n",
    "If a long command is to be wrapped, a backslash can be used to insert a newline:\n",
    "\n",
    "    very_long_variable_name = module_a.very_long_function_name() \\\n",
    "                                      .concatenated_function_call()"
   ]
  },
  {
   "cell_type": "markdown",
   "id": "11fc87de",
   "metadata": {},
   "source": [
    "### 1.6 Comments and Docstrings\n",
    "In Python a **comment** starts with <code>#</code>. The rest of the line is ignored. In case of a multi-line comment, each line must be marked with a <code>#</code>. "
   ]
  },
  {
   "cell_type": "code",
   "execution_count": null,
   "id": "5b015935",
   "metadata": {},
   "outputs": [],
   "source": [
    "# This is a comment.\n",
    "\n",
    "# This is a \n",
    "# multi-line comment."
   ]
  },
  {
   "cell_type": "markdown",
   "id": "a47ac9d3",
   "metadata": {},
   "source": [
    "A **docstring** is usually the first statement of a Python modul (Class, Method, Function). A docstring hat has the syntax <code>\"\"\"This ist my documentation\"\"\"</code>.\n",
    "With <code>help</code> you can see the documentation."
   ]
  },
  {
   "cell_type": "code",
   "execution_count": null,
   "id": "e736caa1",
   "metadata": {},
   "outputs": [],
   "source": [
    "def myFunction():\n",
    "    \"\"\"Documentation of the function\"\"\""
   ]
  },
  {
   "cell_type": "code",
   "execution_count": null,
   "id": "2127d293",
   "metadata": {},
   "outputs": [],
   "source": [
    "help(myFunction)"
   ]
  },
  {
   "cell_type": "code",
   "execution_count": null,
   "id": "adb6bcc9",
   "metadata": {},
   "outputs": [],
   "source": [
    "help(print)"
   ]
  },
  {
   "cell_type": "markdown",
   "id": "da9769de",
   "metadata": {},
   "source": [
    "<h1><center> 2 Basics"
   ]
  },
  {
   "cell_type": "markdown",
   "id": "fe953e25",
   "metadata": {},
   "source": [
    "### 2.1 Operators"
   ]
  },
  {
   "cell_type": "markdown",
   "id": "497cc7af",
   "metadata": {},
   "source": [
    "**Arithmetic Operators**"
   ]
  },
  {
   "cell_type": "markdown",
   "id": "df8b05ae",
   "metadata": {},
   "source": [
    "Python's got - like a calculator - arithmetic operators, functions and constants. \n",
    "<div class=\"alert alert-danger\"><strong>Attention:</strong> The decimal separator is a point and not a comma!!</div>"
   ]
  },
  {
   "cell_type": "markdown",
   "id": "f3761f74",
   "metadata": {},
   "source": [
    "| **Operator, function, constant**              | **description**                         |\n",
    "|:---------------------------|:------------------------------------------|\n",
    "| +, -, *, /, //            | addition, substraction, multiplication, division |\n",
    "| ^, %                      | power, rest function                     |\n",
    "| abs()                     | absolut value                                   |\n",
    "| round()                   | round                                   |\n",
    "\n",
    "<div class=\"alert alert-info\"><b>Try it!</b> Execute the following cells.</div>"
   ]
  },
  {
   "cell_type": "code",
   "execution_count": null,
   "id": "27f41981",
   "metadata": {},
   "outputs": [],
   "source": [
    "1.1 + 1.1"
   ]
  },
  {
   "cell_type": "code",
   "execution_count": null,
   "id": "863f7b1a",
   "metadata": {},
   "outputs": [],
   "source": [
    "5*3"
   ]
  },
  {
   "cell_type": "code",
   "execution_count": null,
   "id": "978e9172",
   "metadata": {},
   "outputs": [],
   "source": [
    "print(10/3)\n",
    "print(10//3)"
   ]
  },
  {
   "cell_type": "code",
   "execution_count": null,
   "id": "a9d9fd56",
   "metadata": {},
   "outputs": [],
   "source": [
    "abs(-3.33334)"
   ]
  },
  {
   "cell_type": "markdown",
   "id": "8b725d2e",
   "metadata": {},
   "source": [
    "The modul `math` provides more functions and constants. It is included by default in every python installtion. Therefore, we do not need to install it through our anaconda navigator. "
   ]
  },
  {
   "cell_type": "code",
   "execution_count": null,
   "id": "ff240ed0",
   "metadata": {},
   "outputs": [],
   "source": [
    "import math as m"
   ]
  },
  {
   "cell_type": "markdown",
   "id": "340b1052",
   "metadata": {},
   "source": [
    "| **Operator, function, constant**              | **description**                     |\n",
    "|:---------------------------|:--------------------------------------|\n",
    "| m.exp()                   | exponential function                  |\n",
    "| m.log(), m.log10()        | logarithm |\n",
    "| m.sin(), m.cos(), m.tan() | trigonometric functions          |\n",
    "| m.sqrt()                  | Square root                        |\n",
    "| m.pi                    | π                          |\n",
    "\n",
    "<div class=\"alert alert-info\"><b>Try it!</b> Execute the following cells.</div>"
   ]
  },
  {
   "cell_type": "code",
   "execution_count": null,
   "id": "4220bcca",
   "metadata": {},
   "outputs": [],
   "source": [
    "m.exp(4)"
   ]
  },
  {
   "cell_type": "code",
   "execution_count": null,
   "id": "13f66762",
   "metadata": {},
   "outputs": [],
   "source": [
    "m.sqrt(4)"
   ]
  },
  {
   "cell_type": "code",
   "execution_count": null,
   "id": "efb3ce56",
   "metadata": {},
   "outputs": [],
   "source": [
    "m.pi"
   ]
  },
  {
   "cell_type": "markdown",
   "id": "7e37b379",
   "metadata": {},
   "source": [
    "**Assignment Operator**"
   ]
  },
  {
   "cell_type": "markdown",
   "id": "6d047e6d",
   "metadata": {},
   "source": [
    "With the assignment operator `=` it is possible to name values or results in order to reuse them."
   ]
  },
  {
   "cell_type": "code",
   "execution_count": null,
   "id": "62bc848a",
   "metadata": {},
   "outputs": [],
   "source": [
    "a = 2+3\n",
    "print(a)"
   ]
  },
  {
   "cell_type": "code",
   "execution_count": null,
   "id": "5cb2fc86",
   "metadata": {},
   "outputs": [],
   "source": [
    "A # Python is case sensitive"
   ]
  },
  {
   "cell_type": "code",
   "execution_count": null,
   "id": "5cb9585a",
   "metadata": {},
   "outputs": [],
   "source": [
    "a, b = 1, 2 # Multiple assignment: \n",
    "# a and b are assigned simultaneously\n",
    "a\n",
    "b"
   ]
  },
  {
   "cell_type": "markdown",
   "id": "d1f3402d",
   "metadata": {},
   "source": [
    "**Comparison Operator**\\\n",
    "Are used to compare two values. A comparison returns ether `True` or `False`."
   ]
  },
  {
   "cell_type": "markdown",
   "id": "be882305",
   "metadata": {},
   "source": [
    "| **Operator** | **description**                               |\n",
    "|:---------------------------|:------------------------------------------------|\n",
    "| >, >=, <, <=              | greater, greater-than-or-equal-to, less, less-than-or-equal-to |\n",
    "| ==, !=                    | equal, not equal                               |\n",
    "| !                         | NOT (Negation)                     |\n",
    "| & , and                   | AND                                  |\n",
    "| I, or                     | OR                                 |\n",
    "\n",
    "<div class=\"alert alert-info\"><b>Try it!</b> Execute the following cells.</div>"
   ]
  },
  {
   "cell_type": "code",
   "execution_count": null,
   "id": "bc05e529",
   "metadata": {},
   "outputs": [],
   "source": [
    "4 >= 3"
   ]
  },
  {
   "cell_type": "code",
   "execution_count": null,
   "id": "e73c03a1",
   "metadata": {},
   "outputs": [],
   "source": [
    "a = 3 # Assignment\n",
    "a == 10"
   ]
  },
  {
   "cell_type": "code",
   "execution_count": null,
   "id": "c25e5c0d",
   "metadata": {},
   "outputs": [],
   "source": [
    "a != 10"
   ]
  },
  {
   "cell_type": "code",
   "execution_count": null,
   "id": "e398f7ac",
   "metadata": {},
   "outputs": [],
   "source": [
    "(3 < 2) & (4 == (3 + 1))"
   ]
  },
  {
   "cell_type": "markdown",
   "id": "132ea08c",
   "metadata": {},
   "source": [
    "<div class=\"alert alert-success\"><b>Exercise:</b> Assign <code>a</code> the value 10 and <code>b</code> the value 5. Is <code>b</code> greater-than-equal to <code>a</code> satisfied?</div>"
   ]
  },
  {
   "cell_type": "markdown",
   "id": "c4617a6f",
   "metadata": {},
   "source": [
    "### 2.2 Data types"
   ]
  },
  {
   "cell_type": "markdown",
   "id": "e48df890",
   "metadata": {},
   "source": [
    "Each variable has a data type. In this chapter, we look at the four most common types:\n",
    "* **strings**: Strings of characters, spaces, or other symbols such as special characters, numbers, etc. To define strings, all characters are written inside single or double quotes, e.g. \"hello\", 'house'. \n",
    "* **integers**: Positive or negative numbers, e.g. -1, 4, 7, -10.\n",
    "* **floats**: Decimal numbers or floating point numbers, e.g., 1.34, -3.33.\n",
    "* **boolean**: Boolean variables can take the values `True` and `False`"
   ]
  },
  {
   "cell_type": "code",
   "execution_count": null,
   "id": "c48c518d",
   "metadata": {},
   "outputs": [],
   "source": [
    "print(9)\n",
    "print(3.76)\n",
    "print(3.00)\n",
    "print(\"Hello world!\")\n",
    "print(True)\n",
    "print(False)"
   ]
  },
  {
   "cell_type": "markdown",
   "id": "d8a48757",
   "metadata": {},
   "source": [
    "The data type is given using the function `type()`. The output `int` stands for an integer object, `float` for a decimal number, `str` for a string and `bool` for a truth value."
   ]
  },
  {
   "cell_type": "code",
   "execution_count": null,
   "id": "ed764637",
   "metadata": {},
   "outputs": [],
   "source": [
    "print(9, type(9))\n",
    "print(3.76, type(3.76))\n",
    "print(3.00, type(3.00))\n",
    "print(\"Hello world!\", type(\"Hello world!\"))\n",
    "print(True, type(True))\n",
    "print(False, type(False))"
   ]
  },
  {
   "cell_type": "markdown",
   "id": "f8fee4e5",
   "metadata": {},
   "source": [
    "<div class=\"alert alert-danger\"><strong>Attention:</strong> We cannot caluclate with strings.</div>"
   ]
  },
  {
   "cell_type": "code",
   "execution_count": null,
   "id": "dd8ade5b",
   "metadata": {},
   "outputs": [],
   "source": [
    "3 + \"2\" # Integer + String"
   ]
  },
  {
   "cell_type": "code",
   "execution_count": null,
   "id": "6d504c49",
   "metadata": {},
   "outputs": [],
   "source": [
    "3.76 + \"2\" # Float + String"
   ]
  },
  {
   "cell_type": "markdown",
   "id": "420921e0",
   "metadata": {},
   "source": [
    "#### 2.2.1 Typecasting\n",
    "The data type of a variable can be converted to another data type. This conversion is calles *typecasting*. For example, an integer object can be converted to a float object: "
   ]
  },
  {
   "cell_type": "code",
   "execution_count": null,
   "id": "cc85ca20",
   "metadata": {},
   "outputs": [],
   "source": [
    "float(100)"
   ]
  },
  {
   "cell_type": "markdown",
   "id": "e568fc15",
   "metadata": {},
   "source": [
    "<div class=\"alert alert-success\"><b>Exercise:</b> What happens if we typecast a float into an integer? And what happens if we typecast a boolean into an integer or float?</div>"
   ]
  },
  {
   "cell_type": "markdown",
   "id": "1d88aee8",
   "metadata": {},
   "source": [
    "#### 2.2.2 String Operations\n",
    "We can access individual elements (characters) of a string. This is called indexing. An index denotes a certain position and is specified with *square* brackets and the index number.\n",
    "<div class=\"alert alert-danger\"><strong>Attention:</strong> The index position count starts with value 0. </div>\n",
    "The indexing follows the logic: <code>[Start:Stop:Interval]</code>. However, these parameters are optional."
   ]
  },
  {
   "cell_type": "code",
   "execution_count": null,
   "id": "869e10b6",
   "metadata": {},
   "outputs": [],
   "source": [
    "alphabet = \"abcdefg\""
   ]
  },
  {
   "cell_type": "markdown",
   "id": "e231f77b",
   "metadata": {},
   "source": [
    "| **a** | **b** | **c** | **d** | **e** | **f** | **g** | \n",
    "|-------|-------|-------|-------|-------|-------|-------|\n",
    "| 0     | 1     | 2     | 3     | 4     | 5     | 6     | "
   ]
  },
  {
   "cell_type": "code",
   "execution_count": null,
   "id": "a8205872",
   "metadata": {},
   "outputs": [],
   "source": [
    "alphabet[0]"
   ]
  },
  {
   "cell_type": "code",
   "execution_count": null,
   "id": "e5bd5008",
   "metadata": {},
   "outputs": [],
   "source": [
    "alphabet[0:4]"
   ]
  },
  {
   "cell_type": "markdown",
   "id": "1516bc27",
   "metadata": {},
   "source": [
    "<div class=\"alert alert-danger\"><strong>Attention:</strong> The interval excludes the right endpoint, i.e. the interval contains the element on position 0, but not the element on position 4: (0, 4]</div>"
   ]
  },
  {
   "cell_type": "code",
   "execution_count": null,
   "id": "77214a45",
   "metadata": {},
   "outputs": [],
   "source": [
    "alphabet[4:]"
   ]
  },
  {
   "cell_type": "code",
   "execution_count": null,
   "id": "6eb91105",
   "metadata": {},
   "outputs": [],
   "source": [
    "alphabet[::2]"
   ]
  },
  {
   "cell_type": "code",
   "execution_count": null,
   "id": "c9c6b577",
   "metadata": {},
   "outputs": [],
   "source": [
    "alphabet[-1] # last element"
   ]
  },
  {
   "cell_type": "code",
   "execution_count": null,
   "id": "5db4396a",
   "metadata": {},
   "outputs": [],
   "source": [
    "len(alphabet) # number of elements"
   ]
  },
  {
   "cell_type": "code",
   "execution_count": null,
   "id": "710c85a8",
   "metadata": {},
   "outputs": [],
   "source": [
    "len(\"Hello World\") # Blank character"
   ]
  },
  {
   "cell_type": "markdown",
   "id": "a46cd17f",
   "metadata": {},
   "source": [
    "| **H** | **e** | **l** | **l** | **o** | &nbsp; | **W** | **o** | **r** | **l** | **d** |\n",
    "|-------|-------|-------|-------|-------|-------|-------|-------|-------|-------|------|\n",
    "| 0     | 1     | 2     | 3     | 4     | 5     | 6     | 7     | 8     | 9     |10     |"
   ]
  },
  {
   "cell_type": "markdown",
   "id": "62601d95",
   "metadata": {},
   "source": [
    "<div class=\"alert alert-success\"><b>Exercise:</b> You have given the string: <b>s1=\"house\"</b>. What expressions give us the last character <b>e</b> in <b>s1</b>? \n",
    "<ol>\n",
    "    <li> s1[len(s1)-1]</li>\n",
    "    <li> s1[len(s1)+1]</li>\n",
    "    <li> s1[-1]</li>\n",
    "    <li> s1[len(s1)]</li>\n",
    "    </ol>\n",
    "</div>"
   ]
  },
  {
   "cell_type": "markdown",
   "id": "815074e7",
   "metadata": {},
   "source": [
    "### 2.3 Data collections"
   ]
  },
  {
   "cell_type": "markdown",
   "id": "be45fb9f",
   "metadata": {},
   "source": [
    "#### 2.3.1 Tuples\n",
    "Tuples can contain objects of different data types. There are special due to their immutability. While you can overwrite values for other data containers, this is not possible for tuples. Tuples are instantiated with **round brackets** and the elements are separated by a comma."
   ]
  },
  {
   "cell_type": "code",
   "execution_count": null,
   "id": "d2ace52f",
   "metadata": {},
   "outputs": [],
   "source": [
    "tuple1 = (\"Hello\", \"World\", 123)"
   ]
  },
  {
   "cell_type": "markdown",
   "id": "0eb02bb4",
   "metadata": {},
   "source": [
    "| **\"Hello\"** | **\"World\"** | **123** |\n",
    "|-------------|-------------|---------|\n",
    "| <center>0</center>  | <center>1</center>           | <center>2</center>       |"
   ]
  },
  {
   "cell_type": "code",
   "execution_count": null,
   "id": "8e55efef",
   "metadata": {},
   "outputs": [],
   "source": [
    "type(tuple1)"
   ]
  },
  {
   "cell_type": "code",
   "execution_count": null,
   "id": "fe7c90af",
   "metadata": {},
   "outputs": [],
   "source": [
    "tuple1[0]"
   ]
  },
  {
   "cell_type": "code",
   "execution_count": null,
   "id": "c6837956",
   "metadata": {},
   "outputs": [],
   "source": [
    "type(tuple1[0])"
   ]
  },
  {
   "cell_type": "code",
   "execution_count": null,
   "id": "8aed9aaa",
   "metadata": {},
   "outputs": [],
   "source": [
    "print(tuple1[2])\n",
    "print(type(tuple1[2])) "
   ]
  },
  {
   "cell_type": "code",
   "execution_count": null,
   "id": "2f363bcc",
   "metadata": {},
   "outputs": [],
   "source": [
    "# Immutable\n",
    "tuple1[0] = 3 # Error"
   ]
  },
  {
   "cell_type": "code",
   "execution_count": null,
   "id": "2ea23cf3",
   "metadata": {},
   "outputs": [],
   "source": [
    "# Concatenate\n",
    "tuple2 = tuple1 + (\"456\", 789)\n",
    "tuple2"
   ]
  },
  {
   "cell_type": "code",
   "execution_count": null,
   "id": "fbe9cfe4",
   "metadata": {},
   "outputs": [],
   "source": [
    "# Nest\n",
    "tuple_nest = (1, 4, (\"House\", \"Bread\"), \"Disco\", (4, 9))\n",
    "len(tuple_nest)"
   ]
  },
  {
   "cell_type": "markdown",
   "id": "b30e68b9",
   "metadata": {},
   "source": [
    "| **1** | **4** | **(\"House\", \"Bread\")** | **\"Disco\"** | **(4, 9)** |\n",
    "|-------|-------|----------------------|-------------|------------|\n",
    "| 0     | 1     | <center>2</center>   | <center>3</center>           | <center>4</center>          |"
   ]
  },
  {
   "cell_type": "code",
   "execution_count": null,
   "id": "709d7092",
   "metadata": {},
   "outputs": [],
   "source": [
    "print(\"3rd element: \", tuple_nest[2])"
   ]
  },
  {
   "cell_type": "code",
   "execution_count": null,
   "id": "edad5fae",
   "metadata": {},
   "outputs": [],
   "source": [
    "print(\"First element of the third element: \", tuple_nest[2][0])"
   ]
  },
  {
   "cell_type": "markdown",
   "id": "b9e0da62",
   "metadata": {},
   "source": [
    "#### 2.3.2 Lists\n",
    "Lists are often used data containers that can contain different data types, but also empty sets. Lists can be instantiated by **square brackets** or by the function `list()`."
   ]
  },
  {
   "cell_type": "code",
   "execution_count": null,
   "id": "e566927c",
   "metadata": {},
   "outputs": [],
   "source": [
    "# Empty list\n",
    "list1 = []"
   ]
  },
  {
   "cell_type": "code",
   "execution_count": null,
   "id": "468376b1",
   "metadata": {},
   "outputs": [],
   "source": [
    "list1"
   ]
  },
  {
   "cell_type": "code",
   "execution_count": null,
   "id": "d23d0fc9",
   "metadata": {},
   "outputs": [],
   "source": [
    "type(list1)"
   ]
  },
  {
   "cell_type": "code",
   "execution_count": null,
   "id": "88b0c8dc",
   "metadata": {},
   "outputs": [],
   "source": [
    "list2 = [1, 4, (\"House\", \"Bread\"), \"Disco\", [4, 9]]"
   ]
  },
  {
   "cell_type": "code",
   "execution_count": null,
   "id": "d10ad6e2",
   "metadata": {},
   "outputs": [],
   "source": [
    "print(\"3rd element of list: \", list2[2])"
   ]
  },
  {
   "cell_type": "code",
   "execution_count": null,
   "id": "52dfba68",
   "metadata": {},
   "outputs": [],
   "source": [
    "print(\"Last element of list: \", list2[-1])"
   ]
  },
  {
   "cell_type": "code",
   "execution_count": null,
   "id": "ef2d2687",
   "metadata": {},
   "outputs": [],
   "source": [
    "# Mutable\n",
    "list2[0] = 1.43\n",
    "print(list2)"
   ]
  },
  {
   "cell_type": "markdown",
   "id": "2d1ce00a",
   "metadata": {},
   "source": [
    "Methods for data operations are available to lists. \n",
    "<div class=\"alert alert-danger\"><strong>Attention:</strong> Both functions and methods are called with their respective names and <b>round</b> brackets. However, functions and methods differ: Methods are functions that are bounded to an objects. Functions (e.g. print()) can be called directly - methods only in conjuction with a links object (e.g. a.append()).</div> "
   ]
  },
  {
   "cell_type": "code",
   "execution_count": null,
   "id": "c17ab61e",
   "metadata": {},
   "outputs": [],
   "source": [
    "list3 = [4, 3, 1]\n",
    "list3.append(2)\n",
    "list3"
   ]
  },
  {
   "cell_type": "code",
   "execution_count": null,
   "id": "e3646b55",
   "metadata": {},
   "outputs": [],
   "source": [
    "list2.extend(list3)\n",
    "print(list2)"
   ]
  },
  {
   "cell_type": "code",
   "execution_count": null,
   "id": "7a3838ca",
   "metadata": {},
   "outputs": [],
   "source": [
    "list3.pop()\n",
    "print(list3)"
   ]
  },
  {
   "cell_type": "code",
   "execution_count": null,
   "id": "09cb2d32",
   "metadata": {},
   "outputs": [],
   "source": [
    "list3.sort()\n",
    "list3"
   ]
  },
  {
   "cell_type": "code",
   "execution_count": null,
   "id": "7fc7aec8",
   "metadata": {},
   "outputs": [],
   "source": [
    "list3.remove(3) \n",
    "list3"
   ]
  },
  {
   "cell_type": "markdown",
   "id": "b80cb378",
   "metadata": {},
   "source": [
    "#### 2.3.3 Dictionaries\n",
    "The instantiation of a dictionary is done by **curly braces** or by the function `dict()`. It consists of an arbitrary number of *keys* and *values*. Instead of numeric indexes, as is the case with lists, a dictionary is indexed by its *keys*. "
   ]
  },
  {
   "cell_type": "markdown",
   "id": "41ae3aff",
   "metadata": {},
   "source": [
    "| Key 1   \t| Key 2   \t| Key 3   \t|\n",
    "|---------\t|---------\t|---------\t|\n",
    "| Value 1 \t| Value 2 \t| Value 3 \t|"
   ]
  },
  {
   "cell_type": "code",
   "execution_count": null,
   "id": "928efacd",
   "metadata": {},
   "outputs": [],
   "source": [
    "dict1 = {\"strongly disagree\": 1, \"disagree\": 2, \"neutral\": 3, \"agree\": 4, \"strongly agree\": 5}\n",
    "dict1"
   ]
  },
  {
   "cell_type": "code",
   "execution_count": null,
   "id": "f4b86134",
   "metadata": {},
   "outputs": [],
   "source": [
    "dict1[\"neutral\"]"
   ]
  },
  {
   "cell_type": "code",
   "execution_count": null,
   "id": "c2a6d3bb",
   "metadata": {},
   "outputs": [],
   "source": [
    "dict1[\"neutral\"] = -1\n",
    "dict1[\"neutral\"]"
   ]
  },
  {
   "cell_type": "code",
   "execution_count": null,
   "id": "4f67967f",
   "metadata": {},
   "outputs": [],
   "source": [
    "dict1.keys()"
   ]
  },
  {
   "cell_type": "code",
   "execution_count": null,
   "id": "77340d47",
   "metadata": {},
   "outputs": [],
   "source": [
    "dict1.values()"
   ]
  },
  {
   "cell_type": "code",
   "execution_count": null,
   "id": "c12d9574",
   "metadata": {},
   "outputs": [],
   "source": [
    "dict1['do not know'] = 0\n",
    "dict1"
   ]
  },
  {
   "cell_type": "code",
   "execution_count": null,
   "id": "bfc527f9",
   "metadata": {},
   "outputs": [],
   "source": [
    "del(dict1['do not know'])\n",
    "dict1"
   ]
  },
  {
   "cell_type": "code",
   "execution_count": null,
   "id": "b3e3407d",
   "metadata": {},
   "outputs": [],
   "source": [
    "\"strongly agree\" in dict1"
   ]
  },
  {
   "cell_type": "code",
   "execution_count": null,
   "id": "6ee01c08",
   "metadata": {},
   "outputs": [],
   "source": [
    "\"do not know\" in dict1"
   ]
  },
  {
   "cell_type": "markdown",
   "id": "b972e1bb",
   "metadata": {},
   "source": [
    "#### 2.3.4 Sets\n",
    "In a set, each element occurs exactly once. Sets are *mutable* like dictionaries or lists - that means values can be removed, added or changed. The instantiation is done like with dictionaries using **curly brackets**, but without the *key* values or with 'set()'."
   ]
  },
  {
   "cell_type": "code",
   "execution_count": null,
   "id": "09568482",
   "metadata": {},
   "outputs": [],
   "source": [
    "set1 = {\"tomato\", \"zucchini\", \"potato\", \"bell pepper\"}\n",
    "set1 #ordered"
   ]
  },
  {
   "cell_type": "code",
   "execution_count": null,
   "id": "65d0a197",
   "metadata": {},
   "outputs": [],
   "source": [
    "# convert list to set\n",
    "list6 = [3, 3,  4, 5, 5, 6]\n",
    "set2 = set(list6)\n",
    "print(set2) # each element occurs once"
   ]
  },
  {
   "cell_type": "code",
   "execution_count": null,
   "id": "02f21cb2",
   "metadata": {},
   "outputs": [],
   "source": [
    "set1.add(\"apple\")\n",
    "set1"
   ]
  },
  {
   "cell_type": "code",
   "execution_count": null,
   "id": "24111e43",
   "metadata": {},
   "outputs": [],
   "source": [
    "set1.remove(\"potato\")\n",
    "set1"
   ]
  },
  {
   "cell_type": "code",
   "execution_count": null,
   "id": "bb699b8f",
   "metadata": {},
   "outputs": [],
   "source": [
    "\"apple\" in set1"
   ]
  },
  {
   "cell_type": "markdown",
   "id": "d6b51383",
   "metadata": {},
   "source": [
    "set1 | apple | bell pepper  | tomato  | zucchini\n",
    "---- | ----- | -------- | ------- | -------\n",
    "**set3** | **pear** | **raspberry** | **bell pepper** | **tomato**\n"
   ]
  },
  {
   "cell_type": "code",
   "execution_count": null,
   "id": "2b31ddde",
   "metadata": {},
   "outputs": [],
   "source": [
    "# intersection\n",
    "set3 = {\"pear\", \"raspberry\", \"bell pepper\", \"tomato\"}\n",
    "set1 & set3"
   ]
  },
  {
   "cell_type": "code",
   "execution_count": null,
   "id": "5e741fed",
   "metadata": {},
   "outputs": [],
   "source": [
    "set1.intersection(set3)"
   ]
  },
  {
   "cell_type": "code",
   "execution_count": null,
   "id": "2575ee44",
   "metadata": {},
   "outputs": [],
   "source": [
    "# difference set\n",
    "set1.difference(set3)"
   ]
  },
  {
   "cell_type": "code",
   "execution_count": null,
   "id": "070abbfa",
   "metadata": {},
   "outputs": [],
   "source": [
    "set3.difference(set1)"
   ]
  },
  {
   "cell_type": "code",
   "execution_count": null,
   "id": "e57d8f02",
   "metadata": {},
   "outputs": [],
   "source": [
    "set1.union(set3)"
   ]
  },
  {
   "cell_type": "code",
   "execution_count": null,
   "id": "607eb8cb",
   "metadata": {},
   "outputs": [],
   "source": [
    "set4 = {\"apple\", \"zucchini\"}\n",
    "set4.issubset(set1)"
   ]
  },
  {
   "cell_type": "code",
   "execution_count": null,
   "id": "a7400eca",
   "metadata": {},
   "outputs": [],
   "source": [
    "set1.issuperset(set4)"
   ]
  },
  {
   "cell_type": "code",
   "execution_count": null,
   "id": "dc662233",
   "metadata": {},
   "outputs": [],
   "source": [
    "set1.isdisjoint(set4)"
   ]
  },
  {
   "cell_type": "markdown",
   "id": "bcab42c4",
   "metadata": {},
   "source": [
    "<div class=\"alert alert-success\"><b>Exercise:</b> <code>a = (3, 1, 2)</code> is given. Sort the numbers using the function <b>sorted</b>. How does the data type changes?</div>"
   ]
  },
  {
   "cell_type": "markdown",
   "id": "1ae5f118",
   "metadata": {},
   "source": [
    "<div class=\"alert alert-success\"><b>Exercise:</b> The tuple <code>b = (\"a\", \"1\", 2, (\"b\", 3, \"c\"), (\"4\", \"d\"))</code> is given. Index both nested tuples <code>(\"b\", 3, \"c\"), (\"4\", \"d\")</code> and the character <b>c</b>.</div>"
   ]
  },
  {
   "cell_type": "markdown",
   "id": "2e517d62",
   "metadata": {},
   "source": [
    "### 2.4 Counter and Errors\n",
    "[Counters](https://docs.python.org/3/library/collections.html?highlight=counter#counter-objects) are used to quickly determine the frequency of occurrence of different keys in a list. Counters must be imported from the built-in Python module **collections**."
   ]
  },
  {
   "cell_type": "code",
   "execution_count": null,
   "id": "015c9e60",
   "metadata": {},
   "outputs": [],
   "source": [
    "from collections import Counter\n",
    "num_list = [0, 1,2, 0, 1, 1, 1, 2, 2, 3]\n",
    "c = Counter(num_list) \n",
    "print(c)"
   ]
  },
  {
   "cell_type": "code",
   "execution_count": null,
   "id": "7b75c46a",
   "metadata": {},
   "outputs": [],
   "source": [
    "doc = ['I', 'I','I', 'am','am','here','who','who','who','who','else']\n",
    "word_count = Counter(doc)\n",
    "\n",
    "print(word_count)\n",
    "print(word_count.most_common(3))"
   ]
  },
  {
   "cell_type": "markdown",
   "id": "05780ea2",
   "metadata": {},
   "source": [
    "We already know two different error types: \n",
    "* **Type Error**: Wrong data type\n",
    "* **Name Error**: Not assigned variable name\n",
    "\n",
    "However, there are a lot more errors which may occur.\\\\\n",
    "Python gives us not only the error type, but also the line where the error is. In this example we see that the error happened in line 6: "
   ]
  },
  {
   "cell_type": "code",
   "execution_count": null,
   "id": "b9a0e884",
   "metadata": {},
   "outputs": [],
   "source": [
    "int1 = 5\n",
    "int2 = 8\n",
    "string1 = \"3\"\n",
    "\n",
    "print(int1 + int2)\n",
    "print(int1 + string1)\n",
    "print(int1 * int2)"
   ]
  },
  {
   "cell_type": "markdown",
   "id": "33f22116",
   "metadata": {},
   "source": [
    "<div class=\"alert alert-danger\"><strong>Attention</strong>: Python executes a script line by line. This means that the lines are not executed further once an error occurs. In the previous example, Python does not execute the seventh line (int1 * int2).</div>"
   ]
  },
  {
   "cell_type": "markdown",
   "id": "64d1b019",
   "metadata": {},
   "source": [
    "**Dealing with errors**\\\n",
    "Errors cannot always be avoided. However, we can create scripts that are prepared for errors and can react to them. \\\n",
    "A **try-except** statement can be helpful: "
   ]
  },
  {
   "cell_type": "code",
   "execution_count": null,
   "id": "28634374",
   "metadata": {},
   "outputs": [],
   "source": [
    "# example 1\n",
    "try:\n",
    "    print(3 / 0)\n",
    "except:\n",
    "    print(\"Do not divide by zero!\")"
   ]
  },
  {
   "cell_type": "code",
   "execution_count": null,
   "id": "b7fcb299",
   "metadata": {},
   "outputs": [],
   "source": [
    "# example 2\n",
    "try:\n",
    "    print(3 / 1)\n",
    "except:\n",
    "    print(\"Do not divide by zero!\")"
   ]
  },
  {
   "cell_type": "markdown",
   "id": "78e4b03d",
   "metadata": {},
   "source": [
    "First the **try** block is executed. If no error occurs, the **except** block is skipped (example 2). If an error occurs during the execution of the **try** block, the rest of the block is skipped and the **except** block is executed."
   ]
  },
  {
   "cell_type": "code",
   "execution_count": null,
   "id": "34cf3f26",
   "metadata": {},
   "outputs": [],
   "source": [
    "# example 3\n",
    "x = 0\n",
    "\n",
    "try: \n",
    "    print(3 / x)\n",
    "except NameError:\n",
    "    print(\"What is x?\")"
   ]
  },
  {
   "cell_type": "code",
   "execution_count": null,
   "id": "38e66a92",
   "metadata": {},
   "outputs": [],
   "source": [
    "# example 4\n",
    "try: \n",
    "    print(3 / x)\n",
    "except NameError:\n",
    "    print(\"What is x?\")\n",
    "except ZeroDivisionError:\n",
    "    print(\"Do not divide by zero!\")"
   ]
  },
  {
   "cell_type": "code",
   "execution_count": null,
   "id": "6b4beb9f",
   "metadata": {},
   "outputs": [],
   "source": [
    "# example 5\n",
    "try: \n",
    "    print(3 / x)\n",
    "except (NameError, ZeroDivisionError):\n",
    "    print(\"Not assigned or divided by zero!\")"
   ]
  },
  {
   "cell_type": "code",
   "execution_count": null,
   "id": "efc81586",
   "metadata": {},
   "outputs": [],
   "source": [
    "# example 6\n",
    "try: \n",
    "    print(3 / x)\n",
    "except:\n",
    "    pass"
   ]
  },
  {
   "cell_type": "markdown",
   "id": "1a4d0b72",
   "metadata": {},
   "source": [
    "The **pass** instruction does not result in any operation. This means that nothing happens when **pass** is executed. While comments (#) are ignored and not executed, the **pass** instruction is executed, but nothing happens.  "
   ]
  },
  {
   "cell_type": "markdown",
   "id": "698de306",
   "metadata": {},
   "source": [
    "<h1><center> 3 Control Flow and Functions"
   ]
  },
  {
   "cell_type": "markdown",
   "id": "d9323a1a",
   "metadata": {},
   "source": [
    "The control flow denotes the sequence of commands in our program. In this learning unit we will get to know three control structures (case distinctions: `if`, `elif`, `else`; condition-controlled loops: `while` and collection-controlled loops: `for`), which allow us to deviate from the sequential processing of commands and to make the sequence of commands dependent on individual expressions. In addition to control structures, we will also familiarize ourselves with functions."
   ]
  },
  {
   "cell_type": "markdown",
   "id": "060594ca",
   "metadata": {},
   "source": [
    "### 3.1 Conditions"
   ]
  },
  {
   "cell_type": "markdown",
   "id": "c17b54c7",
   "metadata": {},
   "source": [
    "**if-statement**"
   ]
  },
  {
   "cell_type": "code",
   "execution_count": null,
   "id": "d6ef100a",
   "metadata": {},
   "outputs": [],
   "source": [
    "num = 1\n",
    "if num > 0:\n",
    "    print(\"The number is positive.\")"
   ]
  },
  {
   "cell_type": "code",
   "execution_count": null,
   "id": "f4f08b96",
   "metadata": {},
   "outputs": [],
   "source": [
    "if num > 0:\n",
    "print(\"The number is positive.\") # No indentation Error"
   ]
  },
  {
   "cell_type": "code",
   "execution_count": null,
   "id": "f5b0f83a",
   "metadata": {},
   "outputs": [],
   "source": [
    "if num > 0: print(\"The number is positive.\")"
   ]
  },
  {
   "cell_type": "code",
   "execution_count": null,
   "id": "77ae10e1",
   "metadata": {},
   "outputs": [],
   "source": [
    "num = -1\n",
    "if num > 0:\n",
    "    print(\"The number is positive.\")"
   ]
  },
  {
   "cell_type": "markdown",
   "id": "9c861460",
   "metadata": {},
   "source": [
    "**if-else-statement**"
   ]
  },
  {
   "cell_type": "code",
   "execution_count": null,
   "id": "629d5aa7",
   "metadata": {},
   "outputs": [],
   "source": [
    "if num > 0:\n",
    "    print(\"The number is positive.\")\n",
    "else:\n",
    "    print(\"The number is not positive.\")"
   ]
  },
  {
   "cell_type": "markdown",
   "id": "5edd3d32",
   "metadata": {},
   "source": [
    "**elif-statement**"
   ]
  },
  {
   "cell_type": "markdown",
   "id": "66a378b3",
   "metadata": {},
   "source": [
    "The indented block after elif is only checked if the expression of the previous **if condition** has taken the truth value `False`. If the condition of elif also takes the truth value `False`, either the next **elif** condition is checked or the statement in the **else** block is executed.  <br>\n",
    "There can be multiple **elif** blocks, but only one **else** block. This must be placed at the end of the statement. Additional **elif** blocks after the **else** block are not allowed."
   ]
  },
  {
   "cell_type": "code",
   "execution_count": null,
   "id": "950263c3",
   "metadata": {},
   "outputs": [],
   "source": [
    "num = 3\n",
    "if num > 5:\n",
    "    print(\"{} is a positive number greater 5.\".format(num))\n",
    "elif 0 < num <= 5:\n",
    "    print(\"{} is a positive number, but less than 5.\".format(num))\n",
    "elif num == 0:\n",
    "    print(\"{} is zero.\".format(num))\n",
    "else:\n",
    "    print(\"{} is a negative number\".format(num))"
   ]
  },
  {
   "cell_type": "markdown",
   "id": "22750d22",
   "metadata": {},
   "source": [
    "<div class=\"alert alert-success\"><b>Exercise:</b> Write a statement that for all numbers greater than 0 and less than or equal to 10 outputs the sentence: The number {x} is greater than 0 and less than or equal to 10. <br>\n",
    "Test your statement using the number 11.</div>"
   ]
  },
  {
   "cell_type": "markdown",
   "id": "3badfbb0",
   "metadata": {},
   "source": [
    "### 3.2 While loops"
   ]
  },
  {
   "cell_type": "markdown",
   "id": "275feb54",
   "metadata": {},
   "source": [
    "Loops allow us to execute code iteratively, changing variables systematically. `while` loops are executed as long as a certain condition is met.<br>\n",
    "<div class=\"alert alert-danger\"><strong>Attention</strong>: If the condition cannot take the truth value False, the process is not aborted and the computer must be restarted!.</div>"
   ]
  },
  {
   "cell_type": "code",
   "execution_count": null,
   "id": "81272f23",
   "metadata": {},
   "outputs": [],
   "source": [
    "idx = 1 # Define an index\n",
    "while idx < 5: # The loop is executed until i is no longer less than 5\n",
    "    print(idx)\n",
    "    idx += 1 # Short for idx = idx + 1"
   ]
  },
  {
   "cell_type": "code",
   "execution_count": null,
   "id": "0dca19e8",
   "metadata": {},
   "outputs": [],
   "source": [
    "idx = 1\n",
    "while idx < 5: \n",
    "    print(idx)\n",
    "    idx += 1\n",
    "else:\n",
    "    print(f\"The varaible takes value {idx}. The condition is not met anymore.\")"
   ]
  },
  {
   "cell_type": "markdown",
   "id": "e63480e5",
   "metadata": {},
   "source": [
    "### 3.3 For loops"
   ]
  },
  {
   "cell_type": "markdown",
   "id": "1bfdd7a0",
   "metadata": {},
   "source": [
    "Before we look at `for` loops, we will learn about the `range()` function. This dynamically generates a sequence of numbers within the desired parameters. The general syntax is:\n",
    "\n",
    "    range(start, end, increment).\n",
    "    \n",
    "If no start value is given, Python starts at the number 0. If no number range (steps) is defined, the interpreter generates a list of consecutive numbers (e.g. ones steps). The final value must always be specified and is **not** included in the generated list.\n",
    "\n",
    "Examples:\n",
    "\n",
    "    range(5) # generates the values 0, 1, 2, 3, 4\n",
    "    range(3, 10) # generates the values 3, 4, 5, 6, 7, 8, 9\n",
    "    range(4, 10, 2) # generates the values 4, 6, 8"
   ]
  },
  {
   "cell_type": "code",
   "execution_count": null,
   "id": "d3bca689",
   "metadata": {},
   "outputs": [],
   "source": [
    "a = range(10)\n",
    "list(a)"
   ]
  },
  {
   "cell_type": "code",
   "execution_count": null,
   "id": "377b3b43",
   "metadata": {},
   "outputs": [],
   "source": [
    "list(range(3, 10))"
   ]
  },
  {
   "cell_type": "code",
   "execution_count": null,
   "id": "1e2eb528",
   "metadata": {},
   "outputs": [],
   "source": [
    "list(range(-3, 10))"
   ]
  },
  {
   "cell_type": "code",
   "execution_count": null,
   "id": "1bcd8e17",
   "metadata": {},
   "outputs": [],
   "source": [
    "list(range(0, 10, 2)) # Steps"
   ]
  },
  {
   "cell_type": "code",
   "execution_count": null,
   "id": "aec49ed6",
   "metadata": {},
   "outputs": [],
   "source": [
    "# Argument-unpacking Operator *\n",
    "[1, 2, *range(7, 15)]"
   ]
  },
  {
   "cell_type": "markdown",
   "id": "6096016a",
   "metadata": {},
   "source": [
    "We know that each element in a data container has a specific index value. `for` loops take advantage of this and thus make it possible to operate on every element in a data container."
   ]
  },
  {
   "cell_type": "code",
   "execution_count": null,
   "id": "7614a942",
   "metadata": {},
   "outputs": [],
   "source": [
    "# very very inefficient\n",
    "x = [1, 2, 3, 4, 5]\n",
    "print(x[0])\n",
    "print(x[1])\n",
    "print(x[2])\n",
    "print(x[3])\n",
    "print(x[4])"
   ]
  },
  {
   "cell_type": "code",
   "execution_count": null,
   "id": "c498fc23",
   "metadata": {},
   "outputs": [],
   "source": [
    "# better\n",
    "for i in x: \n",
    "    print(i)"
   ]
  },
  {
   "cell_type": "code",
   "execution_count": null,
   "id": "212e1ee5",
   "metadata": {},
   "outputs": [],
   "source": [
    "for x in \"banane\":\n",
    "    print(x)"
   ]
  },
  {
   "cell_type": "code",
   "execution_count": null,
   "id": "fee82ad8",
   "metadata": {},
   "outputs": [],
   "source": [
    "k = range(100, 200, 10) \n",
    "for i, x in enumerate(k): # enumerate gives back the values + indexes of the data container\n",
    "    print(i, x)"
   ]
  },
  {
   "cell_type": "markdown",
   "id": "0e10dcf8",
   "metadata": {},
   "source": [
    "<div class=\"alert alert-success\"><b>Exercise:</b> The list <code>l = list(range(1, 13))*4</code> is given. Assign the value 2 to even-numbered entries that are also divisible by 5, the value 1 to all other even-numbered entries, and the value 0 to odd-numbered entries. <br>\n",
    "<b>Hint</b>: Use a for-loop!</div>"
   ]
  },
  {
   "cell_type": "markdown",
   "id": "f33a6806",
   "metadata": {},
   "source": [
    "<div class=\"alert alert-success\"><b>Exercise:</b> Display all values of the Fibonacci series up to 1000. <br>\n",
    "<b>Hint</b>: Use a while-loop and multiple assignments!</div>"
   ]
  },
  {
   "cell_type": "markdown",
   "id": "db027fce",
   "metadata": {},
   "source": [
    "<div class=\"alert alert-success\"><b>Exercise:</b> The list <code>col = [\"rot\", \"blau\", \"gelb\", \"rot\", \"blau\"]</code> is given. Copy all elements of col to col_new using a while-loop. Stop the loop, if the color is not blue or red. <br>\n",
    "    <b>Hint</b>: Use the method append! </div>"
   ]
  },
  {
   "cell_type": "markdown",
   "id": "e19e5b60",
   "metadata": {},
   "source": [
    "**List comprehension**\\\n",
    "List comprehensions allows us to easily and efficiently generate lists in Python. Every list comprehension can be written als for-loop, however, it is not possible to write every for-loop as list comprehension. We differ between conditional (contain if-statement) and unconditional (do not contain an if-statement) list comprehension. The syntax looks like this: \\\n",
    "`[expression for item in iterable if Bedingung == True]`"
   ]
  },
  {
   "cell_type": "code",
   "execution_count": null,
   "id": "ce9e2d85",
   "metadata": {},
   "outputs": [],
   "source": [
    "numbers = [4, 7, 23, 76, 103]\n",
    "[i + 1 for i in numbers] # New list"
   ]
  },
  {
   "cell_type": "code",
   "execution_count": null,
   "id": "448f25a9",
   "metadata": {},
   "outputs": [],
   "source": [
    "[i + 1 for i in numbers if i < 100]"
   ]
  },
  {
   "cell_type": "code",
   "execution_count": null,
   "id": "cf6e57f4",
   "metadata": {},
   "outputs": [],
   "source": [
    "[i + 1 if i < 100 else i *10 for i in numbers] # If-else-Statement"
   ]
  },
  {
   "cell_type": "code",
   "execution_count": null,
   "id": "e3b71c55",
   "metadata": {},
   "outputs": [],
   "source": [
    "[(i, i**2) for i in numbers] # Tuples"
   ]
  },
  {
   "cell_type": "markdown",
   "id": "c787f782",
   "metadata": {},
   "source": [
    "<div class=\"alert alert-success\"><b>Exercise:</b> Logarithmize as sparingly as possible all values in <code>numbers = [15, 100, 30, 43, 80]</code> using the function <b>log</b> from the package <b>math</b>.</div>"
   ]
  },
  {
   "cell_type": "markdown",
   "id": "4788c164",
   "metadata": {},
   "source": [
    "### 3.4 Functions"
   ]
  },
  {
   "cell_type": "code",
   "execution_count": null,
   "id": "c7f11464",
   "metadata": {},
   "outputs": [],
   "source": [
    "# First function\n",
    "def hello(name):\n",
    "    print(f\"Hello, {name}!\") "
   ]
  },
  {
   "cell_type": "code",
   "execution_count": null,
   "id": "ad6d3f25",
   "metadata": {},
   "outputs": [],
   "source": [
    "hello(\"Johanna\")"
   ]
  },
  {
   "cell_type": "markdown",
   "id": "fcfb5ea7",
   "metadata": {},
   "source": [
    "**Local and global variables** \\\n",
    "Each variable which is defined **inside** a function, is only valid locally."
   ]
  },
  {
   "cell_type": "code",
   "execution_count": null,
   "id": "31dc08c7",
   "metadata": {},
   "outputs": [],
   "source": [
    "def ex_function():\n",
    "    print(a)\n",
    "    a = 500\n",
    "    print(\"within function:\", a)\n",
    "\n",
    "a = 3\n",
    "print(\"before function:\", a)\n",
    "bsp_funktion() # NameError\n",
    "print(\"after function:\", a)"
   ]
  },
  {
   "cell_type": "code",
   "execution_count": null,
   "id": "7dd52acc",
   "metadata": {},
   "outputs": [],
   "source": [
    "def ex_function():\n",
    "    a = 500\n",
    "    print(\"within function:\", a)\n",
    "\n",
    "a = 3\n",
    "print(\"before function:\", a)\n",
    "ex_function() # a = 500 only within the function\n",
    "print(\"after function:\", a) # a is 3 globally"
   ]
  },
  {
   "cell_type": "code",
   "execution_count": null,
   "id": "76b8e282",
   "metadata": {},
   "outputs": [],
   "source": [
    "def ex_function():\n",
    "    global a # variable is defined globally \n",
    "    a = 500\n",
    "    print(\"function:\", a)\n",
    "\n",
    "a = 3\n",
    "print(\"before function:\", a)\n",
    "ex_function()\n",
    "print(\"after function:\", a) # a = 500 globally"
   ]
  },
  {
   "cell_type": "markdown",
   "id": "8d046e71",
   "metadata": {},
   "source": [
    "**Print and Return**"
   ]
  },
  {
   "cell_type": "code",
   "execution_count": null,
   "id": "4e8df0ee",
   "metadata": {},
   "outputs": [],
   "source": [
    "def ex_print(a):\n",
    "    b = a * 2\n",
    "    print(b)"
   ]
  },
  {
   "cell_type": "code",
   "execution_count": null,
   "id": "dff8bc33",
   "metadata": {},
   "outputs": [],
   "source": [
    "output_print = ex_print(5)"
   ]
  },
  {
   "cell_type": "code",
   "execution_count": null,
   "id": "fb1d9398",
   "metadata": {},
   "outputs": [],
   "source": [
    "print(output_print)\n",
    "output_print*2 # Fehlermeldung"
   ]
  },
  {
   "cell_type": "code",
   "execution_count": null,
   "id": "dfea1089",
   "metadata": {},
   "outputs": [],
   "source": [
    "def ex_return(a):\n",
    "    b = a * 2\n",
    "    return b"
   ]
  },
  {
   "cell_type": "code",
   "execution_count": null,
   "id": "1c41e068",
   "metadata": {},
   "outputs": [],
   "source": [
    "output_return = ex_return(5)"
   ]
  },
  {
   "cell_type": "code",
   "execution_count": null,
   "id": "5931c840",
   "metadata": {},
   "outputs": [],
   "source": [
    "print(output_return)\n",
    "output_return*2"
   ]
  },
  {
   "cell_type": "markdown",
   "id": "cc546a92",
   "metadata": {},
   "source": [
    "**Parameters** \n",
    "* Positional: Are obligatory and do not have any standardized value\n",
    "* Keyword: Do have a standardized value"
   ]
  },
  {
   "cell_type": "code",
   "execution_count": null,
   "id": "04ea8631",
   "metadata": {},
   "outputs": [],
   "source": [
    "def hello(name, weather=\"sunny\"):\n",
    "    return(f\"Hello, {name}! The weather is {weather}.\")\n",
    "\n",
    "print(hello(\"Johanna\"))\n",
    "print(hello(\"Felix\", \"rainy\"))\n",
    "print(hello(\"rainy\", \"Felix\"))\n",
    "print(hello(weather=\"rainy\", name=\"Felix\"))"
   ]
  },
  {
   "cell_type": "markdown",
   "id": "f8fbe1fd",
   "metadata": {},
   "source": [
    "<div class=\"alert alert-success\"><b>Exercise:</b> Write the function <b>max_two</b>, which displays the maximum value of two numbers. Test your function with random numbers.</div>"
   ]
  },
  {
   "cell_type": "markdown",
   "id": "4c0fcdd4",
   "metadata": {},
   "source": [
    "<h1><center> 4 Import and Export with Pandas"
   ]
  },
  {
   "cell_type": "markdown",
   "id": "dc0dc296",
   "metadata": {},
   "source": [
    "**.csv**"
   ]
  },
  {
   "cell_type": "code",
   "execution_count": null,
   "id": "6b2a4267",
   "metadata": {},
   "outputs": [],
   "source": [
    "import pandas as pd"
   ]
  },
  {
   "cell_type": "code",
   "execution_count": null,
   "id": "a560aad9",
   "metadata": {},
   "outputs": [],
   "source": [
    "df = pd.read_csv(\"Datensatz_Herzinfarkt.csv\", sep=\",\")"
   ]
  },
  {
   "cell_type": "code",
   "execution_count": null,
   "id": "3e47ff98",
   "metadata": {},
   "outputs": [],
   "source": [
    "df.dtypes # Pandas recognize data types"
   ]
  },
  {
   "cell_type": "code",
   "execution_count": null,
   "id": "73973ebe",
   "metadata": {},
   "outputs": [],
   "source": [
    "pd.read_csv(\"Datensatz_Herzinfarkt.csv\", header= None)"
   ]
  },
  {
   "cell_type": "code",
   "execution_count": null,
   "id": "96d18dcb",
   "metadata": {},
   "outputs": [],
   "source": [
    "pd.read_csv(\"Datensatz_Herzinfarkt.csv\", header = None, names=[\"A\", \"B\", \"C\", \"D\", \"E\", \"F\", \"G\", \"H\"])"
   ]
  },
  {
   "cell_type": "code",
   "execution_count": null,
   "id": "602927d0",
   "metadata": {},
   "outputs": [],
   "source": [
    "pd.read_csv(\"Datensatz_Herzinfarkt.csv\", usecols=[\"Blutdruck\", \"Cholesterin\", \"Herzinfarkt\"])"
   ]
  },
  {
   "cell_type": "code",
   "execution_count": null,
   "id": "e4a1326a",
   "metadata": {},
   "outputs": [],
   "source": [
    "pd.read_csv(\"Datensatz_Herzinfarkt.csv\", nrows=100)"
   ]
  },
  {
   "cell_type": "markdown",
   "id": "39cdc1c3",
   "metadata": {},
   "source": [
    "**Git**"
   ]
  },
  {
   "cell_type": "code",
   "execution_count": null,
   "id": "038c6f5c",
   "metadata": {},
   "outputs": [],
   "source": [
    "url = \"https://raw.githubusercontent.com/datasets/rio2016/master/athletes.csv\"\n",
    "df2 = pd.read_csv(url)\n",
    "df2"
   ]
  },
  {
   "cell_type": "markdown",
   "id": "7f57548c",
   "metadata": {},
   "source": [
    "**Libraries**"
   ]
  },
  {
   "cell_type": "code",
   "execution_count": null,
   "id": "cabe8f91",
   "metadata": {},
   "outputs": [],
   "source": [
    "import seaborn as sns"
   ]
  },
  {
   "cell_type": "code",
   "execution_count": null,
   "id": "0be7c8be",
   "metadata": {},
   "outputs": [],
   "source": [
    "sns.get_dataset_names()"
   ]
  },
  {
   "cell_type": "code",
   "execution_count": null,
   "id": "2f641f12",
   "metadata": {},
   "outputs": [],
   "source": [
    "df_iris = sns.load_dataset(\"iris\")\n",
    "df_iris"
   ]
  },
  {
   "cell_type": "markdown",
   "id": "7a688661",
   "metadata": {},
   "source": [
    "**Export to .csv**"
   ]
  },
  {
   "cell_type": "code",
   "execution_count": null,
   "id": "58647119",
   "metadata": {},
   "outputs": [],
   "source": [
    "df_iris.to_csv(\"df_neu.csv\")"
   ]
  },
  {
   "cell_type": "markdown",
   "id": "456ff0af",
   "metadata": {},
   "source": [
    "<h1><center> 5 NumPy and Pandas"
   ]
  },
  {
   "cell_type": "markdown",
   "id": "e271a997",
   "metadata": {},
   "source": [
    "### 5.1 NumPy"
   ]
  },
  {
   "cell_type": "markdown",
   "id": "5cabb6ff",
   "metadata": {},
   "source": [
    "Numerical Python (`NumPy`) is a standard library for mathematical and numerical functions in Python. With `NumPy` you can create efficient multidimensional arrays, perform fast arithmetic operations (without using loops) and generate random numbers."
   ]
  },
  {
   "cell_type": "code",
   "execution_count": null,
   "id": "da882ad9",
   "metadata": {},
   "outputs": [],
   "source": [
    "import numpy as np"
   ]
  },
  {
   "cell_type": "markdown",
   "id": "df19038f",
   "metadata": {},
   "source": [
    "**Generate Arrays**\\\n",
    "NumPy extends Python with additional data structures like the NumPy array. This looks like a list at first sight, but only data of the same data type can be stored in a `NumPy` array. "
   ]
  },
  {
   "cell_type": "code",
   "execution_count": null,
   "id": "bad9f00a",
   "metadata": {},
   "outputs": [],
   "source": [
    "x = np.array([1, 2, 3, 4, 5, 6])\n",
    "print(x, type(x))\n",
    "print(x.dtype) # Integers"
   ]
  },
  {
   "cell_type": "code",
   "execution_count": null,
   "id": "3b7fb91d",
   "metadata": {},
   "outputs": [],
   "source": [
    "list1 = [1, 2, 3, 4, 5, 6]\n",
    "print(list1, type(list1))"
   ]
  },
  {
   "cell_type": "code",
   "execution_count": null,
   "id": "4c92e97a",
   "metadata": {},
   "outputs": [],
   "source": [
    "print(x.ndim) \n",
    "print(x.shape) \n",
    "print(x.size) "
   ]
  },
  {
   "cell_type": "code",
   "execution_count": null,
   "id": "74ace2e9",
   "metadata": {},
   "outputs": [],
   "source": [
    "# Arange() function\n",
    "np.arange(1, 14)"
   ]
  },
  {
   "cell_type": "code",
   "execution_count": null,
   "id": "31d56b30",
   "metadata": {},
   "outputs": [],
   "source": [
    "# reshape() function\n",
    "print(x)\n",
    "print(x.shape)\n",
    "print(\"---------------\")\n",
    "print(x.reshape(2,3))\n",
    "print(x.reshape(2,3).shape)"
   ]
  },
  {
   "cell_type": "code",
   "execution_count": null,
   "id": "4ae9235b",
   "metadata": {},
   "outputs": [],
   "source": [
    "np.zeros([3, 5, 2])"
   ]
  },
  {
   "cell_type": "code",
   "execution_count": null,
   "id": "f2da4c60",
   "metadata": {},
   "outputs": [],
   "source": [
    "np.full([3,5], 10)"
   ]
  },
  {
   "cell_type": "code",
   "execution_count": null,
   "id": "6eec1e67",
   "metadata": {},
   "outputs": [],
   "source": [
    "np.eye(5) # 5x5 Matrix"
   ]
  },
  {
   "cell_type": "code",
   "execution_count": null,
   "id": "a5d9e3de",
   "metadata": {},
   "outputs": [],
   "source": [
    "np.diag([7, 8, 9])"
   ]
  },
  {
   "cell_type": "code",
   "execution_count": null,
   "id": "0c574dcf",
   "metadata": {},
   "outputs": [],
   "source": [
    "np.linspace(start=0, stop=20, num=5)"
   ]
  },
  {
   "cell_type": "code",
   "execution_count": null,
   "id": "6352a8ba",
   "metadata": {},
   "outputs": [],
   "source": [
    "np.linspace(start=0, stop=20, num=5, dtype=int)"
   ]
  },
  {
   "cell_type": "markdown",
   "id": "d16815c9",
   "metadata": {},
   "source": [
    "**Indexing**\\\n",
    "Like list. However, Indexing with list and booleans possible"
   ]
  },
  {
   "cell_type": "code",
   "execution_count": null,
   "id": "d31af94b",
   "metadata": {},
   "outputs": [],
   "source": [
    "print(x[0])\n",
    "print(x[0:4])"
   ]
  },
  {
   "cell_type": "code",
   "execution_count": null,
   "id": "3b840b14",
   "metadata": {},
   "outputs": [],
   "source": [
    "list2 = [2, 3]\n",
    "print(x[list2])"
   ]
  },
  {
   "cell_type": "code",
   "execution_count": null,
   "id": "9f6541df",
   "metadata": {},
   "outputs": [],
   "source": [
    "list3 = [True, False, False, False, False, True]\n",
    "print(x[list3])"
   ]
  },
  {
   "cell_type": "code",
   "execution_count": null,
   "id": "5e4d84ff",
   "metadata": {},
   "outputs": [],
   "source": [
    "# mutable\n",
    "x[0] = 100.3\n",
    "print(x) # Float to Integer"
   ]
  },
  {
   "cell_type": "code",
   "execution_count": null,
   "id": "d8f1932e",
   "metadata": {},
   "outputs": [],
   "source": [
    "b = np.arange(10, 19).reshape(3,3)\n",
    "print(b)"
   ]
  },
  {
   "cell_type": "markdown",
   "id": "1c9f085a",
   "metadata": {},
   "source": [
    "|         | j = 0   | j = 1   | j = 2   |\n",
    "|---------|---------|---------|---------|\n",
    "|**i = 0**| B[0, 0] | B[0, 1] | B[0, 2] |\n",
    "|**i = 1**| B[1, 0] | B[1, 1] | B[1, 2] |\n",
    "|**i = 2**| B[2, 0] | B[2, 1] | B[2, 2] |"
   ]
  },
  {
   "cell_type": "code",
   "execution_count": null,
   "id": "0699183c",
   "metadata": {},
   "outputs": [],
   "source": [
    "print(b[1, 2])\n",
    "print(b[1][2])"
   ]
  },
  {
   "cell_type": "code",
   "execution_count": null,
   "id": "70f1e643",
   "metadata": {},
   "outputs": [],
   "source": [
    "print(b[1, 1:3]) \n",
    "print(b[1][1:3])"
   ]
  },
  {
   "cell_type": "markdown",
   "id": "eff1d7d4",
   "metadata": {},
   "source": [
    "**Arithmetic operations in contrast to lists easy possible**"
   ]
  },
  {
   "cell_type": "code",
   "execution_count": null,
   "id": "12f309e8",
   "metadata": {},
   "outputs": [],
   "source": [
    "print(b + 3)"
   ]
  },
  {
   "cell_type": "code",
   "execution_count": null,
   "id": "36baac13",
   "metadata": {},
   "outputs": [],
   "source": [
    "list2 + 3 # TypeError"
   ]
  },
  {
   "cell_type": "code",
   "execution_count": null,
   "id": "df5797d6",
   "metadata": {},
   "outputs": [],
   "source": [
    "print([j + 3 for j in list2])"
   ]
  },
  {
   "cell_type": "markdown",
   "id": "cf367fa4",
   "metadata": {},
   "source": [
    "<div class=\"alert alert-success\"><b>Exercise:</b> Create the array <b>a</b> with values -15, -14, -13, ... 13, 14. Select the elements $a_i$ from the vector <b>a</b> which fulfill the following conditions: \n",
    "    <ol>\n",
    "        <li> a_i is less than 10.</li>\n",
    "        <li> a_i is a negative number. </li>\n",
    "        <li> a_i is less than ten and greater than -10.</li>\n",
    "        <li> a_i is a multiple of 3. </li>\n",
    "</div>"
   ]
  },
  {
   "cell_type": "markdown",
   "id": "e192b3b4",
   "metadata": {},
   "source": [
    "### 5.2 Pandas\n",
    "Pandas (acronym for Python and data analysis) provides additional functions and data structures for data analysis. The two most important data structures are called `DataFrame` and `Series`. The first denotes a data table, the second a column of a data table (i.e. a `DataFrame` consists of `Series`). "
   ]
  },
  {
   "cell_type": "code",
   "execution_count": null,
   "id": "e522d57a",
   "metadata": {},
   "outputs": [],
   "source": [
    "#import pandas as pd "
   ]
  },
  {
   "cell_type": "markdown",
   "id": "3c8a4d80",
   "metadata": {},
   "source": [
    "#### 5.2.1 Series\n",
    "Series' objects contain an additional index in addition to the values. In the default setting, this is numeric and starts at 0. However, it can also be customized."
   ]
  },
  {
   "cell_type": "code",
   "execution_count": null,
   "id": "150f7bd5",
   "metadata": {},
   "outputs": [],
   "source": [
    "a = pd.Series([15, 16, 17, 18])\n",
    "print(a)"
   ]
  },
  {
   "cell_type": "code",
   "execution_count": null,
   "id": "503ef205",
   "metadata": {},
   "outputs": [],
   "source": [
    "print(a.index) \n",
    "print(a.values) "
   ]
  },
  {
   "cell_type": "code",
   "execution_count": null,
   "id": "ba55da91",
   "metadata": {},
   "outputs": [],
   "source": [
    "b = pd.Series([15, 16, 17, 18], index=[\"a\", \"b\", \"c\", \"d\"])\n",
    "b"
   ]
  },
  {
   "cell_type": "code",
   "execution_count": null,
   "id": "20253a58",
   "metadata": {},
   "outputs": [],
   "source": [
    "print(b[\"c\"]) # Indexing using string\n",
    "print(b.c) # dot notation\n",
    "print(b[2]) # Indexing with position"
   ]
  },
  {
   "cell_type": "markdown",
   "id": "eae20250",
   "metadata": {},
   "source": [
    "#### 5.2.2 DataFrames\n",
    "A DataFrame contains multiple Series objects and is the \"default\" object when analyzing multidimensional data. Usually, the columns contain different types of data (our *variables*) and the rows contain the corresponding values (our *observations*)."
   ]
  },
  {
   "cell_type": "code",
   "execution_count": null,
   "id": "0372c862",
   "metadata": {},
   "outputs": [],
   "source": [
    "a = [21, 22, 23, 24]\n",
    "b = [1000, 2000, 1500, 1700]\n",
    "table1 = pd.DataFrame({\"a\":a, \"b\":b}) # key is column name\n",
    "table1"
   ]
  },
  {
   "cell_type": "code",
   "execution_count": null,
   "id": "d722eb65",
   "metadata": {},
   "outputs": [],
   "source": [
    "table2 = pd.DataFrame({\n",
    "    \"age\":a, \n",
    "    \"income\":b, \n",
    "    \"faculty\": \"economics\", \n",
    "    \"studies\": pd.Categorical([\"A\", \"A\", \"B\", \"B\"])}, \n",
    "    index=(\"Person1\", \"Person2\", \"Person3\", \"Person4\"))\n",
    "table2"
   ]
  },
  {
   "cell_type": "code",
   "execution_count": null,
   "id": "d4b0f8c5",
   "metadata": {},
   "outputs": [],
   "source": [
    "table2.head(2)"
   ]
  },
  {
   "cell_type": "code",
   "execution_count": null,
   "id": "e511cdd5",
   "metadata": {},
   "outputs": [],
   "source": [
    "table2.tail(n = 2)"
   ]
  },
  {
   "cell_type": "code",
   "execution_count": null,
   "id": "43fb0277",
   "metadata": {},
   "outputs": [],
   "source": [
    "table2.index"
   ]
  },
  {
   "cell_type": "code",
   "execution_count": null,
   "id": "f479da8d",
   "metadata": {},
   "outputs": [],
   "source": [
    "table2.columns"
   ]
  },
  {
   "cell_type": "code",
   "execution_count": null,
   "id": "f5dd6dfa",
   "metadata": {},
   "outputs": [],
   "source": [
    "table2.describe() "
   ]
  },
  {
   "cell_type": "code",
   "execution_count": null,
   "id": "083b21bd",
   "metadata": {},
   "outputs": [],
   "source": [
    "table2.describe(include = \"all\")"
   ]
  },
  {
   "cell_type": "markdown",
   "id": "0f2eae12",
   "metadata": {},
   "source": [
    "**Indexing**\n",
    "* []: Indexing with numpy.notation \n",
    "* .: Attribute access operator\n",
    "* .loc: lable-based\n",
    "* .iloc: integer-position\n",
    "* .at: one value"
   ]
  },
  {
   "cell_type": "code",
   "execution_count": null,
   "id": "5cb667fd",
   "metadata": {},
   "outputs": [],
   "source": [
    "table2[0:1]"
   ]
  },
  {
   "cell_type": "code",
   "execution_count": null,
   "id": "e8189ab9",
   "metadata": {},
   "outputs": [],
   "source": [
    "table2.age"
   ]
  },
  {
   "cell_type": "code",
   "execution_count": null,
   "id": "c14677d4",
   "metadata": {},
   "outputs": [],
   "source": [
    "table2.loc[\"Person1\"]"
   ]
  },
  {
   "cell_type": "code",
   "execution_count": null,
   "id": "12b58cfe",
   "metadata": {},
   "outputs": [],
   "source": [
    "table2.iloc[3]"
   ]
  },
  {
   "cell_type": "code",
   "execution_count": null,
   "id": "80fb123b",
   "metadata": {},
   "outputs": [],
   "source": [
    "table2.at[\"Person2\", \"income\"]"
   ]
  },
  {
   "cell_type": "markdown",
   "id": "1f07a22d",
   "metadata": {},
   "source": [
    "<div class=\"alert alert-success\"><b>Exercise:</b> The dataframe <b>e</b> is given. Get an overview of <b>e</b> by \n",
    "    <ol>\n",
    "        <li> looking at the indexes.</li>\n",
    "        <li> output the column names. </li>\n",
    "        <li> output the first two rows.</li>\n",
    "        <li> sort <b>e</b> descending by ranking using the method <b>sort_values</b>. </li>\n",
    "    </ol>\n",
    "</div>"
   ]
  },
  {
   "cell_type": "code",
   "execution_count": null,
   "id": "fd5a0fb3",
   "metadata": {},
   "outputs": [],
   "source": [
    "e = pd.DataFrame({\n",
    "    \"Title\":[\"Pulp Fiction\", \"Die Verurteilten\", \"Der Pate\", \"Fight Club\", \"The Dark Knight\"], \n",
    "    \"Year\": [1994, 1994, 1972, 1999, 2008], \n",
    "    \"Ranking\": [1, 5, 3, 2, 4]})\n",
    "e"
   ]
  },
  {
   "cell_type": "markdown",
   "id": "923e0e93",
   "metadata": {},
   "source": [
    "<h1><center> 6 Visualization </h1>\n",
    "Numerous plots can be implemented in Python. It is crucial to choose the right plot for the right data. First, we need to ask ourselves what type of data we are dealing with: \n",
    "* categorical\n",
    "* numeric\n",
    "* categorical + numeric\n",
    "* spatial data\n",
    "* etc."
   ]
  },
  {
   "cell_type": "markdown",
   "id": "acd2890a",
   "metadata": {},
   "source": [
    "The website https://www.data-to-viz.com/index.html provides information to different visualization techniques."
   ]
  },
  {
   "cell_type": "markdown",
   "id": "953b522a",
   "metadata": {},
   "source": [
    "### 6.1 First graphic"
   ]
  },
  {
   "cell_type": "code",
   "execution_count": null,
   "id": "1758677d",
   "metadata": {},
   "outputs": [],
   "source": [
    "import matplotlib.pyplot as plt\n",
    "#import seaborn as sns"
   ]
  },
  {
   "cell_type": "code",
   "execution_count": null,
   "id": "0ffcf963",
   "metadata": {},
   "outputs": [],
   "source": [
    "y = [1, 4, 2, 3]\n",
    "plt.plot(y)\n",
    "plt.show()"
   ]
  },
  {
   "cell_type": "markdown",
   "id": "013c2b5e",
   "metadata": {},
   "source": [
    "**High-Level-Parameters:**"
   ]
  },
  {
   "cell_type": "markdown",
   "id": "f1ee7162",
   "metadata": {},
   "source": [
    "| Argument   | Value                            | Description                            |\n",
    "|:------------|:---------------------------------|:-----------------------------------------|\n",
    "| linestyle | \"--\", \"-.\", \"\", ...             | line type                               |\n",
    "| marker     | \"o\", \"v\", \"1\", ...              | Type of data point symbols               |\n",
    "| color      | \"Name\", \"RGB\", \"Hex-Code\" | Colour of data point symbols              |\n",
    "| linewidth  | Number                         | Line width |\n",
    "| label      | \"Legend\"        | Legend                    |"
   ]
  },
  {
   "cell_type": "code",
   "execution_count": null,
   "id": "b479f908",
   "metadata": {},
   "outputs": [],
   "source": [
    "x = [0, 3, 4, 5]\n",
    "plt.plot(x, y, color=\"green\", marker=\"o\", linestyle=\"--\")\n",
    "plt.show()"
   ]
  },
  {
   "cell_type": "markdown",
   "id": "248bdd60",
   "metadata": {},
   "source": [
    "**Low-Level-Functions:**"
   ]
  },
  {
   "cell_type": "markdown",
   "id": "5dccfcf8",
   "metadata": {},
   "source": [
    "| Function                                                                          | Description                       |\n",
    "|:---------------------------------------------------------------------------------|:------------------------------------|\n",
    "| plt.title(\"Text\")                                                             | Adds title             |\n",
    "| plt.xlabel(\"Text\")                                                            | Adds title for the x-axis    |\n",
    "| plt.ylabel(\"Text\")                                                            | Adds title for the y-axis    |\n",
    "| plt.legend(loc=\"Ort\", fontsize=Zahl, ...)                                   | Characteristics of the legend          |\n",
    "| plt.grid(b=bool, ...)                                                         | Characteristics of the grid |\n",
    "| plt.axis(xmin=Zahl, xmax=Zahl, ymin=Zahl, ymax=Zahl, option=bool,...) | Characteristics of the axes                |\n",
    "| plt.axvline()                                                         | Vertical line                  |\n",
    "| plt.axhline()                                                         | Horizontal line                   |"
   ]
  },
  {
   "cell_type": "code",
   "execution_count": null,
   "id": "5e684427",
   "metadata": {},
   "outputs": [],
   "source": [
    "# Plot\n",
    "plt.plot(x, y, label=\"min.Temp\")\n",
    "\n",
    "# Layout\n",
    "plt.title(\"Grafik1 $\\sim N(\\mu, \\sigma^2)$\", loc=\"left\", fontsize=20)\n",
    "plt.xlabel(\"days\", style=\"italic\")\n",
    "plt.ylabel(\"temp\", color=\"red\")\n",
    "plt.xlim([1,9])\n",
    "plt.ylim([0,5])\n",
    "plt.legend(loc = \"upper right\")\n",
    "\n",
    "# PShow plot\n",
    "plt.show()"
   ]
  },
  {
   "cell_type": "markdown",
   "id": "4ff84f6c",
   "metadata": {},
   "source": [
    "### 6.2 Visualization of one variable"
   ]
  },
  {
   "cell_type": "code",
   "execution_count": null,
   "id": "df33c7b0",
   "metadata": {},
   "outputs": [],
   "source": [
    "df = pd.read_csv(\"Bestsellers.csv\")\n",
    "df.head()"
   ]
  },
  {
   "cell_type": "markdown",
   "id": "4cdcc403",
   "metadata": {},
   "source": [
    "**Barplot**"
   ]
  },
  {
   "cell_type": "code",
   "execution_count": null,
   "id": "875061c3",
   "metadata": {},
   "outputs": [],
   "source": [
    "# absolute values\n",
    "data4bar = df[\"Genre\"].value_counts()\n",
    "data4bar"
   ]
  },
  {
   "cell_type": "code",
   "execution_count": null,
   "id": "89823545",
   "metadata": {},
   "outputs": [],
   "source": [
    "# Bars\n",
    "plt.bar(data4bar.index, data4bar.values)\n",
    "\n",
    "# Layout\n",
    "plt.title(\"Säulendiagramm\")\n",
    "plt.xlabel(\"Genre\")\n",
    "plt.ylabel(\"Anzahl\")\n",
    "\n",
    "# Show plot\n",
    "plt.show()"
   ]
  },
  {
   "cell_type": "code",
   "execution_count": null,
   "id": "909f6bd1",
   "metadata": {},
   "outputs": [],
   "source": [
    "plt.bar(data4bar.index, data4bar.values, color=[\"Red\", \"Yellow\"])\n",
    "plt.show()"
   ]
  },
  {
   "cell_type": "code",
   "execution_count": null,
   "id": "e82cdd1e",
   "metadata": {},
   "outputs": [],
   "source": [
    "plt.bar(data4bar.index, data4bar.values, color=(0.2, 0.4, 0.6, 0.2), edgecolor = \"red\")\n",
    "plt.show()"
   ]
  },
  {
   "cell_type": "code",
   "execution_count": null,
   "id": "17c99e68",
   "metadata": {},
   "outputs": [],
   "source": [
    "sns.barplot(x = data4bar.index, y = data4bar.values, color=\"#69b3a2\")\n",
    "plt.show()"
   ]
  },
  {
   "cell_type": "markdown",
   "id": "7eef4cde",
   "metadata": {},
   "source": [
    "**Histogram**"
   ]
  },
  {
   "cell_type": "code",
   "execution_count": null,
   "id": "8f4f9e68",
   "metadata": {},
   "outputs": [],
   "source": [
    "plt.hist(df[\"Reviews\"], density = True)\n",
    "plt.show()"
   ]
  },
  {
   "cell_type": "code",
   "execution_count": null,
   "id": "0f0a5169",
   "metadata": {},
   "outputs": [],
   "source": [
    "sns.set(style=\"white\")\n",
    "sns.displot(df[\"Reviews\"])\n",
    "plt.show()"
   ]
  },
  {
   "cell_type": "code",
   "execution_count": null,
   "id": "34766422",
   "metadata": {},
   "outputs": [],
   "source": [
    "sns.histplot(data=df[\"Reviews\"], bins=10)\n",
    "plt.show()"
   ]
  },
  {
   "cell_type": "markdown",
   "id": "ab8a2843",
   "metadata": {},
   "source": [
    "**Boxplot**"
   ]
  },
  {
   "cell_type": "code",
   "execution_count": null,
   "id": "d3c88ead",
   "metadata": {},
   "outputs": [],
   "source": [
    "sns.boxplot(x=df[\"Reviews\"])\n",
    "plt.show()"
   ]
  },
  {
   "cell_type": "markdown",
   "id": "f9375f71",
   "metadata": {},
   "source": [
    "**Kernel**"
   ]
  },
  {
   "cell_type": "code",
   "execution_count": null,
   "id": "5ebe85e0",
   "metadata": {},
   "outputs": [],
   "source": [
    "sns.kdeplot(df[\"Reviews\"])\n",
    "plt.show()"
   ]
  },
  {
   "cell_type": "code",
   "execution_count": null,
   "id": "30653132",
   "metadata": {},
   "outputs": [],
   "source": [
    "sns.kdeplot(df[\"Reviews\"], shade=True, color=\"olive\")\n",
    "plt.show()"
   ]
  },
  {
   "cell_type": "markdown",
   "id": "c28ded12",
   "metadata": {},
   "source": [
    "<div class=\"alert alert-success\"><b>Exercise:</b> Import the dataset <b>company</b>. Create a line chart with <i>total_profit</i> and <i>month_number</i>. Thereby, the line color should be green, the title <i>Profit per month</i>, the x-axis title <i>Month</i>, the y-axis title <i>Profit in US-Dollary</i>, the data point symbol triagnles and the line type: \"-.-.-.-.-.-.-.-.\". Furthermore, there should be a red, horizontal line, which marks the arithmetic mean of <i>total_profit</i>.<br>\n",
    "    <b>Hint:</b> Use the function np.mean!</div>"
   ]
  },
  {
   "cell_type": "markdown",
   "id": "19ccaf8b",
   "metadata": {},
   "source": [
    "### 6.3 Visualization of two variables"
   ]
  },
  {
   "cell_type": "code",
   "execution_count": null,
   "id": "a0640a90",
   "metadata": {},
   "outputs": [],
   "source": [
    "# Scatterplot\n",
    "plt.plot(df[\"Reviews\"], df[\"Price\"], marker=\"o\", linestyle=\"\")\n",
    "\n",
    "# Layout\n",
    "plt.title(\"Scatterplot\")\n",
    "plt.xlabel(\"User Rating\")\n",
    "plt.ylabel(\"Price\")\n",
    "\n",
    "# Show plot\n",
    "plt.show()"
   ]
  },
  {
   "cell_type": "code",
   "execution_count": null,
   "id": "f1858fc0",
   "metadata": {},
   "outputs": [],
   "source": [
    "# Scatterplot\n",
    "plt.plot(df[\"Reviews\"], df[\"Price\"], marker=\"o\", alpha=0.2, linestyle=\"\")\n",
    "\n",
    "# Layout\n",
    "plt.title(\"Scatterplot\")\n",
    "plt.xlabel(\"User Rating\")\n",
    "plt.ylabel(\"Price\")\n",
    "\n",
    "# Show plot\n",
    "plt.show()"
   ]
  },
  {
   "cell_type": "code",
   "execution_count": null,
   "id": "3238806b",
   "metadata": {},
   "outputs": [],
   "source": [
    "sns.boxplot(y=df[\"Reviews\"], x=df[\"Genre\"])\n",
    "plt.show()"
   ]
  },
  {
   "cell_type": "markdown",
   "id": "9fe2c55d",
   "metadata": {},
   "source": [
    "<div class=\"alert alert-success\"><b>Exercise:</b> Import the dataset <b>HappinessReport2019</b>. Create a scatterplot with <i>Overall rank</i> and <i>Social support</i> with green dots. </div>"
   ]
  }
 ],
 "metadata": {
  "kernelspec": {
   "display_name": "Python 3 (ipykernel)",
   "language": "python",
   "name": "python3"
  },
  "language_info": {
   "codemirror_mode": {
    "name": "ipython",
    "version": 3
   },
   "file_extension": ".py",
   "mimetype": "text/x-python",
   "name": "python",
   "nbconvert_exporter": "python",
   "pygments_lexer": "ipython3",
   "version": "3.8.12"
  }
 },
 "nbformat": 4,
 "nbformat_minor": 5
}
